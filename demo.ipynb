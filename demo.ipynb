{
 "cells": [
  {
   "cell_type": "markdown",
   "metadata": {},
   "source": [
    "# This demo notebook shows rendering of a scene with ATLAS robot."
   ]
  },
  {
   "cell_type": "code",
   "execution_count": 1,
   "metadata": {},
   "outputs": [],
   "source": [
    "import mediapy as media\n",
    "import mujoco"
   ]
  },
  {
   "cell_type": "code",
   "execution_count": 2,
   "metadata": {},
   "outputs": [],
   "source": [
    "model = mujoco.MjModel.from_xml_path(\"model/atlas_minimal_contact.xml\")\n",
    "\n",
    "data = mujoco.MjData(model)\n",
    "\n",
    "# avoid rendeder to be black-screened\n",
    "try:\n",
    "    renderer\n",
    "except:\n",
    "    renderer = mujoco.Renderer(model)"
   ]
  },
  {
   "cell_type": "code",
   "execution_count": 3,
   "metadata": {},
   "outputs": [
    {
     "data": {
      "text/html": [
       "<table class=\"show_images\" style=\"border-spacing:0px;\"><tr><td style=\"padding:1px;\"><img width=\"320\" height=\"240\" style=\"image-rendering:auto; object-fit:cover;\" src=\"data:image/png;base64,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\"/></td></tr></table>"
      ],
      "text/plain": [
       "<IPython.core.display.HTML object>"
      ]
     },
     "metadata": {},
     "output_type": "display_data"
    }
   ],
   "source": [
    "mujoco.mj_step(model, data)\n",
    "renderer.update_scene(data)\n",
    "\n",
    "media.show_image(renderer.render())"
   ]
  },
  {
   "cell_type": "code",
   "execution_count": 4,
   "metadata": {},
   "outputs": [
    {
     "data": {
      "text/plain": [
       "30"
      ]
     },
     "execution_count": 4,
     "metadata": {},
     "output_type": "execute_result"
    }
   ],
   "source": [
    "import pinocchio as pin\n",
    "\n",
    "model = pin.buildModelFromUrdf(\"model/atlas_minimal_contact.urdf\")\n",
    "\n",
    "model.nq"
   ]
  }
 ],
 "metadata": {
  "kernelspec": {
   "display_name": "venv",
   "language": "python",
   "name": "python3"
  },
  "language_info": {
   "codemirror_mode": {
    "name": "ipython",
    "version": 3
   },
   "file_extension": ".py",
   "mimetype": "text/x-python",
   "name": "python",
   "nbconvert_exporter": "python",
   "pygments_lexer": "ipython3",
   "version": "3.10.12"
  },
  "orig_nbformat": 4
 },
 "nbformat": 4,
 "nbformat_minor": 2
}
